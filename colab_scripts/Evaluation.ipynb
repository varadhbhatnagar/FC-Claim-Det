{
 "cells": [
  {
   "cell_type": "code",
   "execution_count": null,
   "metadata": {
    "id": "PZzR8pdo4zdA"
   },
   "outputs": [],
   "source": [
    "import pandas as pd\n",
    "from urllib.parse import urlparse\n",
    "import requests"
   ]
  },
  {
   "cell_type": "code",
   "execution_count": null,
   "metadata": {
    "id": "ri-xKTNm48Wd"
   },
   "outputs": [],
   "source": [
    "def retrieval_eval(query, gold_urls):\n",
    "  retrieval_1 = 0\n",
    "  retrieval_5 = 0\n",
    "  retrieval_10 = 0\n",
    "  retrieval_20 = 0\n",
    "  retrieval_50 = 0\n",
    "  mrr = 0\n",
    "  reciprocal_ranks = []\n",
    "\n",
    "  for i in range(0,len(query)):\n",
    "    added = False\n",
    "    cand = query[i]\n",
    "    gold_url = urlparse(gold_urls[i])\n",
    "    gold_url_netloc = gold_url[1]\n",
    "    gold_url_path = gold_url[2]\n",
    "    if gold_url_path[-1]=='/':\n",
    "      gold_url_path = gold_url_path[:-1]\n",
    "    \n",
    "    params = {\n",
    "            'query': cand.strip(),\n",
    "            'pageSize': '50',\n",
    "            'key': '<your_key>',\n",
    "        }\n",
    "    try:\n",
    "        response_dict = requests.get(\n",
    "            'https://factchecktools.googleapis.com/v1alpha1/claims:search',\n",
    "            params=params).json()\n",
    "    except Exception as e:\n",
    "      response_dict = {}\n",
    "      print(\"Google API is not working\")\n",
    "      break\n",
    "\n",
    "    if 'claims' in response_dict.keys():\n",
    "      for i in range(0, len(response_dict[\"claims\"])):\n",
    "        claim = response_dict['claims'][i]\n",
    "        ret_url = urlparse(claim['claimReview'][0]['url'])\n",
    "        ret_url_netloc = ret_url[1]\n",
    "        ret_url_path = ret_url[2]\n",
    "        if ret_url_path[-1]=='/':\n",
    "          ret_url_path = ret_url_path[:-1]\n",
    "\n",
    "        if(ret_url_netloc == gold_url_netloc and ret_url_path == gold_url_path):\n",
    "          added = True\n",
    "          reciprocal_ranks.append(1/(i+1))\n",
    "          if i<1:\n",
    "            retrieval_1 +=1\n",
    "\n",
    "          if i<5:\n",
    "            retrieval_5 +=1\n",
    "\n",
    "          if i<10:\n",
    "            retrieval_10 +=1  \n",
    "\n",
    "          if i<20:\n",
    "            retrieval_20 +=1\n",
    "\n",
    "          retrieval_50 +=1\n",
    "          break\n",
    "    \n",
    "    if added == False:\n",
    "      reciprocal_ranks.append(0)\n",
    "\n",
    "  if len(reciprocal_ranks) >0:\n",
    "    mrr = sum(reciprocal_ranks)/len(reciprocal_ranks)\n",
    "\n",
    "  return { \n",
    "      'retrieval_1': (retrieval_1*100)/len(query),\n",
    "      'retrieval_5': (retrieval_5*100)/len(query),\n",
    "      'retrieval_10': (retrieval_10*100)/len(query),\n",
    "      'retrieval_20': (retrieval_20*100)/len(query),\n",
    "      'retrieval_50': (retrieval_50*100)/len(query),\n",
    "      'mrr': mrr,\n",
    "      }"
   ]
  },
  {
   "cell_type": "code",
   "execution_count": null,
   "metadata": {
    "id": "kqzTnIXZ5Bwv"
   },
   "outputs": [],
   "source": [
    "base_file = 'summ_data_eng_eng_raw.csv'\n",
    "pred_filenames = ['predictions.xlsx', 'predictions(1).xlsx', 'predictions(2).xlsx', 'predictions(3).xlsx', 'predictions(4).xlsx']"
   ]
  },
  {
   "cell_type": "code",
   "execution_count": null,
   "metadata": {
    "colab": {
     "base_uri": "https://localhost:8080/"
    },
    "id": "PmJ4Ctxc5CWg",
    "outputId": "f102d8bf-f5f4-4ac8-e27d-6ac3dfbdf03d"
   },
   "outputs": [
    {
     "name": "stdout",
     "output_type": "stream",
     "text": [
      "predictions.xlsx Retrieval = {'retrieval_1': 17.54385964912281, 'retrieval_5': 26.31578947368421, 'retrieval_10': 27.19298245614035, 'retrieval_20': 27.19298245614035, 'retrieval_50': 27.19298245614035, 'mrr': 0.21661793372319688}%\n",
      "predictions(1).xlsx Retrieval = {'retrieval_1': 21.92982456140351, 'retrieval_5': 29.82456140350877, 'retrieval_10': 29.82456140350877, 'retrieval_20': 29.82456140350877, 'retrieval_50': 29.82456140350877, 'mrr': 0.2529239766081871}%\n",
      "predictions(2).xlsx Retrieval = {'retrieval_1': 18.58407079646018, 'retrieval_5': 27.43362831858407, 'retrieval_10': 29.20353982300885, 'retrieval_20': 29.20353982300885, 'retrieval_50': 29.20353982300885, 'mrr': 0.22448377581120946}%\n",
      "predictions(3).xlsx Retrieval = {'retrieval_1': 19.469026548672566, 'retrieval_5': 26.548672566371682, 'retrieval_10': 26.548672566371682, 'retrieval_20': 26.548672566371682, 'retrieval_50': 26.548672566371682, 'mrr': 0.22640117994100298}%\n",
      "predictions(4).xlsx Retrieval = {'retrieval_1': 20.353982300884955, 'retrieval_5': 28.31858407079646, 'retrieval_10': 29.20353982300885, 'retrieval_20': 30.088495575221238, 'retrieval_50': 30.088495575221238, 'mrr': 0.23993889591234724}%\n"
     ]
    }
   ],
   "source": [
    "summ_data_eng_eng_raw = pd.read_csv(base_file, header=0, index_col=0)\n",
    "for file in pred_filenames:\n",
    "  preds = pd.read_csv(file, header=0, index_col=0)\n",
    "  gold_urls = []\n",
    "  for index, row in preds.iterrows():\n",
    "    gold_urls.append(summ_data_eng_eng_raw.loc[row['ID']]['evidence_url'])\n",
    "  print(\"{} Retrieval = {}%\".format(file, retrieval_eval(list(preds['Generated Text']), gold_urls)))"
   ]
  }
 ],
 "metadata": {
  "colab": {
   "collapsed_sections": [],
   "name": "Evaluation.ipynb",
   "provenance": []
  },
  "kernelspec": {
   "display_name": "Python 3",
   "language": "python",
   "name": "python3"
  },
  "language_info": {
   "codemirror_mode": {
    "name": "ipython",
    "version": 3
   },
   "file_extension": ".py",
   "mimetype": "text/x-python",
   "name": "python",
   "nbconvert_exporter": "python",
   "pygments_lexer": "ipython3",
   "version": "3.8.10"
  }
 },
 "nbformat": 4,
 "nbformat_minor": 1
}
